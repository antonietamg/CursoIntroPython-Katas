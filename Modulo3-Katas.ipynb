{
 "cells": [
  {
   "cell_type": "markdown",
   "metadata": {},
   "source": [
    "## Alerta de velocidad de asteroide"
   ]
  },
  {
   "cell_type": "code",
   "execution_count": 2,
   "metadata": {},
   "outputs": [
    {
     "name": "stdout",
     "output_type": "stream",
     "text": [
      "Alerta. La velocidad del asteroide excede el límite seguro.\n"
     ]
    }
   ],
   "source": [
    "velocidad = 49\n",
    "\n",
    "if velocidad > 25 :\n",
    "    print(\"Alerta. La velocidad del asteroide excede el límite seguro.\")\n",
    "else:\n",
    "    print(\"Sin peligro en el horizonte.\")"
   ]
  },
  {
   "cell_type": "markdown",
   "metadata": {},
   "source": [
    "## Aviso de rayo de luz producido por un asteroide"
   ]
  },
  {
   "cell_type": "code",
   "execution_count": 1,
   "metadata": {},
   "outputs": [
    {
     "name": "stdout",
     "output_type": "stream",
     "text": [
      "Nada interesante en el cielo.\n"
     ]
    }
   ],
   "source": [
    "asteroide = 19\n",
    "if asteroide > 20:\n",
    "    print(\"Mira el cielo ahora. Hay una sorpresa en el firmamento.\")\n",
    "elif asteroide == 20:\n",
    "    print(\"Mira el cielo ahora. Hay una sorpresa en el firmamento.\")\n",
    "else:\n",
    "    print(\"Nada interesante en el cielo.\")"
   ]
  },
  {
   "cell_type": "markdown",
   "metadata": {},
   "source": [
    "## Notificación de actividad de asteroides"
   ]
  },
  {
   "cell_type": "code",
   "execution_count": 7,
   "metadata": {},
   "outputs": [
    {
     "name": "stdout",
     "output_type": "stream",
     "text": [
      "Mira el cielo ahora. Hay una sorpresa en el firmamento.\n"
     ]
    }
   ],
   "source": [
    "velocidad = 22\n",
    "size = 10\n",
    "\n",
    "if velocidad >= 20 and velocidad < 25 and size < 25 :\n",
    "    print(\"Mira el cielo ahora. Hay una sorpresa en el firmamento.\")\n",
    "elif velocidad > 25 and size > 25 and size < 1000 :\n",
    "    print(\"Peligro. Un asteroide de gran tamaño se acerca a una velocidad fuera de los límites seguros.\")\n",
    "elif velocidad < 25 and size > 25 and size < 1000 :\n",
    "    print(\"Alerta. Se acerca un asteroide de gran tamaño.\")\n",
    "elif velocidad > 25 and size < 25 :\n",
    "    print(\"Alerta. La velocidad del asteroide excede el límite seguro.\")\n",
    "else :\n",
    "    print(\"Todo en calma en el firmamento.\")\n",
    "\n",
    "\n"
   ]
  }
 ],
 "metadata": {
  "interpreter": {
   "hash": "80a2d380751daa66eed9689ad0d565e1262953e4f4be18220d55e14b6a6f8467"
  },
  "kernelspec": {
   "display_name": "Python 3.9.5 ('base')",
   "language": "python",
   "name": "python3"
  },
  "language_info": {
   "codemirror_mode": {
    "name": "ipython",
    "version": 3
   },
   "file_extension": ".py",
   "mimetype": "text/x-python",
   "name": "python",
   "nbconvert_exporter": "python",
   "pygments_lexer": "ipython3",
   "version": "3.9.5"
  },
  "orig_nbformat": 4
 },
 "nbformat": 4,
 "nbformat_minor": 2
}
