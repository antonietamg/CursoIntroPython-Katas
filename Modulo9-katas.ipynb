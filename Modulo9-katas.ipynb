{
  "cells": [
    {
      "cell_type": "markdown",
      "metadata": {},
      "source": [
        "# Ejercicio: Uso de funciones en Python"
      ]
    },
    {
      "cell_type": "markdown",
      "metadata": {},
      "source": [
        "### Ejercicio 1: Trabajar con argumentos en funciones\n",
        "\n",
        "Los argumentos requeridos en las funciones se utilizan cuando las funciones necesitan que esos argumentos funcionen correctamente. En este ejercicio, construirás un informe de combustible que requiere información de varias ubicaciones de combustible en todo el cohete.\n",
        "\n"
      ]
    },
    {
      "cell_type": "markdown",
      "metadata": {},
      "source": [
        "> **TIP**\n",
        "> Dedica unos minutos para tratar de encontrar una solución. Luego desplázate hacia abajo hasta la parte inferior para ver si has logrado compilar el programa de acuerdo con las especificaciones\n",
        "\n",
        "Comienza por crear una función que necesite tres lecturas de combustible y devuelva un informe:"
      ]
    },
    {
      "cell_type": "code",
      "execution_count": 19,
      "metadata": {},
      "outputs": [],
      "source": [
        "# Función para leer 3 tanques de combustible y muestre el promedio\n",
        "\n",
        "def nivel_combustible(tanque1, tanque2, tanque3):\n",
        "\n",
        "    tit = f'{\"Informe de niveles de combustible\".title()} \\n {\"-\"*100}'\n",
        "    \n",
        "    full = 300\n",
        "\n",
        "    if tanque1 < full:\n",
        "        f1 = 'Tanque 1 no está lleno'\n",
        "    else :\n",
        "        f1 = 'Tanque 1 está lleno'\n",
        "\n",
        "    if tanque2 < full:\n",
        "        f2 = 'Tanque 2 no está lleno'\n",
        "    else :\n",
        "        f2 = 'Tanque 2 está lleno'\n",
        "\n",
        "    if tanque3 < full:\n",
        "        f3 = 'Tanque 3 no está lleno'\n",
        "    else :\n",
        "        f3 = 'Tanque 3 está lleno'\n",
        "\n",
        "    t1 = (tanque1*100)/full\n",
        "    t2 = (tanque2*100)/full\n",
        "    t3 = (tanque3*100)/full\n",
        " \n",
        "    tn1 = f'Tanque 1 está al {t1} %'\n",
        "    tn2 = f'Tanque 2 está al {t2} %'\n",
        "    tn3 = f'Tanque 3 está al {t3} %'\n",
        "\n",
        "    nivel_promedio = (tanque1 + tanque2 + tanque3)/3\n",
        "    nivel_promedio_porc = (nivel_promedio*100)/full\n",
        "\n",
        "    return f\"\"\" \n",
        "    {tit}\n",
        "    {f1}\n",
        "    {f2}\n",
        "    {f3}\n",
        "    {tn1}\n",
        "    {tn2}\n",
        "    {tn3}\n",
        "    El nivel promedio de los 3 tanques en litros es de {nivel_promedio} litros.\n",
        "    El nivel promedio de los 3 tanques en porcentaje es de {nivel_promedio_porc} %\n",
        "    \"\"\"\n"
      ]
    },
    {
      "cell_type": "markdown",
      "metadata": {},
      "source": [
        "Ahora que hemos definido la función de informes, vamos a comprobarlo. Para esta misión, los tanques no están llenos:"
      ]
    },
    {
      "cell_type": "code",
      "execution_count": 20,
      "metadata": {},
      "outputs": [
        {
          "name": "stdout",
          "output_type": "stream",
          "text": [
            " \n",
            "    Informe De Niveles De Combustible \n",
            " ----------------------------------------------------------------------------------------------------\n",
            "    Tanque 1 no está lleno\n",
            "    Tanque 2 no está lleno\n",
            "    Tanque 3 no está lleno\n",
            "    Tanque 1 está al 18.666666666666668 %\n",
            "    Tanque 2 está al 92.66666666666667 %\n",
            "    Tanque 3 está al 55.666666666666664 %\n",
            "    El nivel promedio de los 3 tanques en litros es de 167.0 litros.\n",
            "    El nivel promedio de los 3 tanques en porcentaje es de 55.666666666666664 %\n",
            "    \n"
          ]
        }
      ],
      "source": [
        "\n",
        "# Llamamos a la función que genera el reporte print(funcion(tanque1, tanque2, tanque3))\n",
        "# nivel de combustible en litros\n",
        "print(nivel_combustible(56, 278, 167))"
      ]
    },
    {
      "cell_type": "markdown",
      "metadata": {},
      "source": [
        "En lugar de simplemente crear el informe, la función también está calculando el promedio. Mejora la legibilidad extrayendo el cálculo promedio de la función en una nueva función para que el promedio se pueda hacer de forma independiente:"
      ]
    },
    {
      "cell_type": "code",
      "execution_count": 21,
      "metadata": {},
      "outputs": [],
      "source": [
        "# Función promedio \n",
        "def promedio(x):\n",
        "\n",
        "    suma = sum(x)\n",
        "    div = suma / len(x)\n",
        "\n",
        "    return div\n"
      ]
    },
    {
      "cell_type": "markdown",
      "metadata": {},
      "source": [
        "Ahora actualiza la función de informes para llamando a la nueva función del promedio:\n"
      ]
    },
    {
      "cell_type": "code",
      "execution_count": 22,
      "metadata": {},
      "outputs": [],
      "source": [
        "# Actualiza la función\n",
        "\n",
        "def nivel_combustible(tanque1, tanque2, tanque3):\n",
        "\n",
        "    tit = f'{\"Informe de niveles de combustible\".title()} \\n {\"-\"*100}'\n",
        "    \n",
        "    full = 300\n",
        "\n",
        "    if tanque1 < full:\n",
        "        f1 = 'Tanque 1 no está lleno'\n",
        "    else :\n",
        "        f1 = 'Tanque 1 está lleno'\n",
        "\n",
        "    if tanque2 < full:\n",
        "        f2 = 'Tanque 2 no está lleno'\n",
        "    else :\n",
        "        f2 = 'Tanque 2 está lleno'\n",
        "\n",
        "    if tanque3 < full:\n",
        "        f3 = 'Tanque 3 no está lleno'\n",
        "    else :\n",
        "        f3 = 'Tanque 3 está lleno'\n",
        "\n",
        "    t1 = (tanque1*100)/full\n",
        "    t2 = (tanque2*100)/full\n",
        "    t3 = (tanque3*100)/full\n",
        " \n",
        "    tn1 = f'Tanque 1 está al {t1} %'\n",
        "    tn2 = f'Tanque 2 está al {t2} %'\n",
        "    tn3 = f'Tanque 3 está al {t3} %'\n",
        "\n",
        "    nivel_promedio = promedio([tanque1, tanque2, tanque3])\n",
        "    nivel_promedio_porc = (nivel_promedio*100)/full\n",
        "\n",
        "    return f\"\"\" \n",
        "    {tit}\n",
        "    {f1}\n",
        "    {f2}\n",
        "    {f3}\n",
        "    {tn1}\n",
        "    {tn2}\n",
        "    {tn3}\n",
        "    El nivel promedio de los 3 tanques en litros es de {nivel_promedio} litros.\n",
        "    El nivel promedio de los 3 tanques en porcentaje es de {nivel_promedio_porc} %\n",
        "    \"\"\""
      ]
    },
    {
      "cell_type": "code",
      "execution_count": 23,
      "metadata": {},
      "outputs": [
        {
          "name": "stdout",
          "output_type": "stream",
          "text": [
            " \n",
            "    Informe De Niveles De Combustible \n",
            " ----------------------------------------------------------------------------------------------------\n",
            "    Tanque 1 no está lleno\n",
            "    Tanque 2 no está lleno\n",
            "    Tanque 3 no está lleno\n",
            "    Tanque 1 está al 18.666666666666668 %\n",
            "    Tanque 2 está al 92.66666666666667 %\n",
            "    Tanque 3 está al 55.666666666666664 %\n",
            "    El nivel promedio de los 3 tanques en litros es de 167.0 litros.\n",
            "    El nivel promedio de los 3 tanques en porcentaje es de 55.666666666666664 %\n",
            "    \n"
          ]
        }
      ],
      "source": [
        "print(nivel_combustible(56, 278, 167))"
      ]
    },
    {
      "cell_type": "markdown",
      "metadata": {},
      "source": [
        "> Recuerda: Lo importante es intentarlo, puedes auxiliarte de internet, libros, etc. El objetivo de una kata es la comprobación de la comprensión de la lección y su aplicación inmediata a la resolución de problemas. Go for it!"
      ]
    },
    {
      "cell_type": "markdown",
      "metadata": {},
      "source": [
        "## Ejercicio 2: Trabajo con argumentos de palabra clave"
      ]
    },
    {
      "cell_type": "markdown",
      "metadata": {},
      "source": [
        "### Ejercicio : Trabajar con argumentos de palabras clave en funciones\n",
        "En este ejercicio, construirás un informe de cohete que requiere varias piezas de información, como el tiempo hasta el destino, el combustible a la izquierda y el nombre del destino. Comienza por crear una función que creará un informe preciso de la misión:"
      ]
    },
    {
      "cell_type": "code",
      "execution_count": 49,
      "metadata": {},
      "outputs": [
        {
          "name": "stdout",
          "output_type": "stream",
          "text": [
            " Informe del cohete\n",
            "    ----------------------------------------------------------------------------------------------------\n",
            "    Hora de prelanzamiento: 13 hrs.\n",
            "    Tiempo de pelanzamiento: 5 horas\n",
            "    Tiempo de vuelo: 51 horas\n",
            "    Tiempo total: 56 horas\n",
            "    Destino: Luna\n",
            "    Nivel de combustible de tanque externo: 99 %\n",
            "    Nivel de combustible de tanque interno: 99 %\n",
            "    \n"
          ]
        }
      ],
      "source": [
        "# Función con un informe preciso de la misión. Considera hora de prelanzamiento, tiempo de vuelo, destino, tanque externo y tanque interno\n",
        "def informe_cohete(hora_prelanzamiento, tiempo_prelanzamiento, tiempo_vuelo, destino, tanque_ex, tanque_in ):\n",
        "\n",
        "    return f\"\"\" Informe del cohete\n",
        "    {'-'*100}\n",
        "    Hora de prelanzamiento: {hora_prelanzamiento} hrs.\n",
        "    Tiempo de pelanzamiento: {tiempo_prelanzamiento} horas\n",
        "    Tiempo de vuelo: {tiempo_vuelo} horas\n",
        "    Tiempo total: {tiempo_prelanzamiento + tiempo_vuelo} horas\n",
        "    Destino: {destino}\n",
        "    Nivel de combustible de tanque externo: {tanque_ex} %\n",
        "    Nivel de combustible de tanque interno: {tanque_in} %\n",
        "    \"\"\"\n",
        "\n",
        "print(informe_cohete(13, 5, 51, \"Luna\", 99, 99))\n"
      ]
    },
    {
      "cell_type": "markdown",
      "metadata": {},
      "source": [
        "La función es problemática porque no se puede adaptar para minutos adicionales o tanques adicionales de combustible. Hazlo más flexible permitiendo cualquier número de pasos basados en el tiempo y cualquier número de tanques. En lugar de usar `*args` y `**kwargs`, aprovecha el hecho de que puedes usar cualquier nombre que desees. Asegurate que la función sea más legible mediante el uso de nombres de variables que están asociados con las entradas, como `*minutes` y `**fuel_reservoirs`:"
      ]
    },
    {
      "cell_type": "code",
      "execution_count": 42,
      "metadata": {},
      "outputs": [
        {
          "name": "stdout",
          "output_type": "stream",
          "text": [
            "13:10:15\n"
          ]
        }
      ],
      "source": [
        "import time\n",
        "\n",
        "time_string = \"13, 10, 15\"\n",
        "result = time.strptime(time_string, \"%H, %M, %S\")\n",
        "\n",
        "ts = time.strftime(\"%H:%M:%S\", result)\n",
        "\n",
        "print(ts)"
      ]
    },
    {
      "cell_type": "code",
      "execution_count": 58,
      "metadata": {},
      "outputs": [
        {
          "name": "stdout",
          "output_type": "stream",
          "text": [
            " Informe del cohete:\n",
            "    ----------------------------------------------------------------------------------------------------\n",
            "    Destino: Luna\n",
            "    Hora de prelanzamiento: 13:15:10 \n",
            "    Tiempo total: 3249 minutos\n",
            "    Reserva de combustible: 99.0 %\n",
            "    \n"
          ]
        }
      ],
      "source": [
        "# Escribe tu nueva función de reporte considerando lo anterior\n",
        "import time\n",
        "\n",
        "def informe_cohete(hora_prelanzamiento, destino, *tiempo_total_minutos, **reserva_combustible):\n",
        "\n",
        "    time_string = hora_prelanzamiento\n",
        "    result = time.strptime(time_string, \"%H, %M, %S\")\n",
        "    ts = time.strftime(\"%H:%M:%S\", result)\n",
        "\n",
        "    return f\"\"\" Informe del cohete:\n",
        "    {'-'*100}\n",
        "    Destino: {destino}\n",
        "    Hora de prelanzamiento: {ts} \n",
        "    Tiempo total: {sum(tiempo_total_minutos)} minutos\n",
        "    Reserva de combustible: {sum(reserva_combustible.values())/2} %\n",
        "    \"\"\"\n",
        "\n",
        "print(informe_cohete('13, 15, 10', \"Luna\", 189, 3060, interno = 99, externo = 99))"
      ]
    },
    {
      "cell_type": "markdown",
      "metadata": {},
      "source": [
        "Debido a que el combustible que queda en los tanques es específico de cada tanque, actualiza la función para usar el nombre de cada tanque en el informe:"
      ]
    },
    {
      "cell_type": "code",
      "execution_count": 60,
      "metadata": {},
      "outputs": [
        {
          "name": "stdout",
          "output_type": "stream",
          "text": [
            " Informe del cohete:\n",
            "    ----------------------------------------------------------------------------------------------------\n",
            "    Destino: Luna\n",
            "    Hora de prelanzamiento: 13:15:10 \n",
            "    Tiempo total: 3249 minutos\n",
            "    Reserva de combustible: 99.0 %\n",
            "    ::::::::: Tanque interno: 99 %\n",
            "    ::::::::: Tanque externo: 99 %\n",
            "    \n"
          ]
        }
      ],
      "source": [
        "# Escribe tu nueva función\n",
        "import time\n",
        "\n",
        "def informe_cohete(hora_prelanzamiento, destino, *tiempo_total_minutos, **reserva_combustible):\n",
        "\n",
        "    time_string = hora_prelanzamiento\n",
        "    result = time.strptime(time_string, \"%H, %M, %S\")\n",
        "    ts = time.strftime(\"%H:%M:%S\", result)\n",
        "\n",
        "    return f\"\"\" Informe del cohete:\n",
        "    {'-'*100}\n",
        "    Destino: {destino}\n",
        "    Hora de prelanzamiento: {ts} \n",
        "    Tiempo total: {sum(tiempo_total_minutos)} minutos\n",
        "    Reserva de combustible: {sum(reserva_combustible.values())/2} %\n",
        "    ::::::::: Tanque interno: {reserva_combustible['interno']} %\n",
        "    ::::::::: Tanque externo: {reserva_combustible['externo']} %\n",
        "    \"\"\"\n",
        "\n",
        "print(informe_cohete('13, 15, 10', \"Luna\", 189, 3060, interno = 99, externo = 99))"
      ]
    },
    {
      "cell_type": "markdown",
      "metadata": {},
      "source": [
        "## Soluciones"
      ]
    },
    {
      "cell_type": "markdown",
      "metadata": {},
      "source": [
        "## Ejercicio 1"
      ]
    },
    {
      "cell_type": "code",
      "execution_count": null,
      "metadata": {},
      "outputs": [],
      "source": [
        "# Función para leer 3 tanques de combustible y muestre el promedio\n",
        "\n",
        "def generate_report(main_tank, external_tank, hydrogen_tank):\n",
        "    total_average = (main_tank + external_tank + hydrogen_tank) / 3\n",
        "    return f\"\"\"Fuel Report:\n",
        "    Total Average: {total_average}%\n",
        "    Main tank: {main_tank}%\n",
        "    External tank: {external_tank}%\n",
        "    Hydrogen tank: {hydrogen_tank}% \n",
        "    \"\"\""
      ]
    },
    {
      "cell_type": "code",
      "execution_count": null,
      "metadata": {},
      "outputs": [],
      "source": [
        "# Llamamos a la función que genera el reporte print(funcion(tanque1, tanque2, tanque3))\n",
        "print(generate_report(80, 70, 85))"
      ]
    },
    {
      "cell_type": "code",
      "execution_count": null,
      "metadata": {},
      "outputs": [],
      "source": [
        "# Función promedio \n",
        "def average(values):\n",
        "    total = sum(values)\n",
        "    number_of_items = len(values)\n",
        "    return total / number_of_items\n",
        "\n",
        "# Test the averaging function with a list of integers:\n",
        "average([80, 85, 81]) "
      ]
    },
    {
      "cell_type": "code",
      "execution_count": null,
      "metadata": {},
      "outputs": [],
      "source": [
        "# Actualiza la función\n",
        "def generate_report(main_tank, external_tank, hydrogen_tank):\n",
        "    return f\"\"\"Fuel Report:\n",
        "    Total Average: {average([main_tank, external_tank, hydrogen_tank])}%\n",
        "    Main tank: {main_tank}%\n",
        "    External tank: {external_tank}%\n",
        "    Hydrogen tank: {hydrogen_tank}% \n",
        "    \"\"\"\n",
        "\n",
        "# Call the updated function again with different values\n",
        "print(generate_report(88, 76, 70))"
      ]
    },
    {
      "cell_type": "markdown",
      "metadata": {},
      "source": [
        "### Ejercicio 2:"
      ]
    },
    {
      "cell_type": "code",
      "execution_count": null,
      "metadata": {},
      "outputs": [],
      "source": [
        "# Función con un informe preciso de la misión. Considera hora de prelanzamiento, tiempo de vuelo, destino, tanque externo y tanque interno\n",
        "\n",
        "def mission_report(pre_launch_time, flight_time, destination, external_tank, main_tank):\n",
        "    return f\"\"\"\n",
        "    Mission to {destination}\n",
        "    Total travel time: {pre_launch_time + flight_time} minutes\n",
        "    Total fuel left: {external_tank + main_tank} gallons\n",
        "    \"\"\"\n",
        "\n",
        "print(mission_report(14, 51, \"Moon\", 200000, 300000))"
      ]
    },
    {
      "cell_type": "code",
      "execution_count": null,
      "metadata": {},
      "outputs": [],
      "source": [
        "# Escribe tu nueva función de reporte considerando lo anterior\n",
        "\n",
        "def mission_report(destination, *minutes, **fuel_reservoirs):\n",
        "    return f\"\"\"\n",
        "    Mission to {destination}\n",
        "    Total travel time: {sum(minutes)} minutes\n",
        "    Total fuel left: {sum(fuel_reservoirs.values())}\n",
        "    \"\"\"\n",
        "\n",
        "print(mission_report(\"Moon\", 10, 15, 51, main=300000, external=200000))"
      ]
    },
    {
      "cell_type": "code",
      "execution_count": null,
      "metadata": {},
      "outputs": [],
      "source": [
        "# Escribe tu nueva función\n",
        "\n",
        "def mission_report(destination, *minutes, **fuel_reservoirs):\n",
        "    main_report = f\"\"\"\n",
        "    Mission to {destination}\n",
        "    Total travel time: {sum(minutes)} minutes\n",
        "    Total fuel left: {sum(fuel_reservoirs.values())}\n",
        "    \"\"\"\n",
        "    for tank_name, gallons in fuel_reservoirs.items():\n",
        "        main_report += f\"{tank_name} tank --> {gallons} gallons left\\n\"\n",
        "    return main_report\n",
        "\n",
        "print(mission_report(\"Moon\", 8, 11, 55, main=300000, external=200000))"
      ]
    },
    {
      "cell_type": "markdown",
      "metadata": {},
      "source": [
        "---\n",
        "\n",
        "Curso Propedútico de Python para Launch X - Innovacción Virtual.\n",
        "\n",
        "Material desarrollado con base en los contenidos de MSLearn y la metáfora de LaunchX, traducción e implementación por: Fernanda Ochoa - Learning Producer de LaunchX.\n",
        "\n",
        "Redes:\n",
        "* GitHub: [FernandaOchoa](https://github.com/FernandaOchoa)\n",
        "* Twitter: [@imonsh](https://twitter.com/imonsh)\n",
        "* Instagram: [fherz8a](https://www.instagram.com/fherz8a/)"
      ]
    }
  ],
  "metadata": {
    "interpreter": {
      "hash": "205095b8b86ea82a021a8fc2ffba2b3bc9f8d0be25999901963b225939f75778"
    },
    "kernelspec": {
      "display_name": "Python 3.8.10 64-bit ('tmp': conda)",
      "name": "python3"
    },
    "language_info": {
      "codemirror_mode": {
        "name": "ipython",
        "version": 3
      },
      "file_extension": ".py",
      "mimetype": "text/x-python",
      "name": "python",
      "nbconvert_exporter": "python",
      "pygments_lexer": "ipython3",
      "version": "3.9.5"
    },
    "nteract": {
      "version": "nteract-front-end@1.0.0"
    },
    "orig_nbformat": 4
  },
  "nbformat": 4,
  "nbformat_minor": 2
}
